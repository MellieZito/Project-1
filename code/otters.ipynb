{
 "cells": [
  {
   "cell_type": "markdown",
   "metadata": {},
   "source": [
    "# Otter populations in california\n",
    "\n",
    "Project 1\n",
    "\n",
    "Gail Romer and Mellie Zito"
   ]
  },
  {
   "cell_type": "code",
   "execution_count": 16,
   "metadata": {},
   "outputs": [],
   "source": [
    "# Configure Jupyter so figures appear in the notebook\n",
    "%matplotlib inline\n",
    "\n",
    "# Configure Jupyter to display the assigned value after an assignment\n",
    "%config InteractiveShell.ast_node_interactivity='last_expr_or_assign'\n",
    "\n",
    "# import functions from the modsim.py module\n",
    "from modsim import *\n",
    "\n",
    "from pandas import read_csv"
   ]
  },
  {
   "cell_type": "code",
   "execution_count": 17,
   "metadata": {
    "scrolled": true
   },
   "outputs": [],
   "source": [
    "filename = 'Otterdata.csv'\n",
    "tables = read_csv(filename, header=0, index_col=0, decimal='M');"
   ]
  },
  {
   "cell_type": "code",
   "execution_count": 18,
   "metadata": {},
   "outputs": [],
   "source": [
    "pup_total = tables.pups\n",
    "otter_total = tables.total\n",
    "mature_total = otter_total - pup_total;"
   ]
  },
  {
   "cell_type": "code",
   "execution_count": 19,
   "metadata": {},
   "outputs": [],
   "source": [
    "pofo = 0.4 #percentage of female otters - may equal this out later (ie 50:50 ratio) no real life support of this number\n",
    "pomo = 1 - pofo \n",
    "\n",
    "female_pups = pup_total * pofo\n",
    "male_pups = pup_total * pomo\n",
    "\n",
    "f_mature = (otter_total - pup_total) * pofo\n",
    "m_mature = (otter_total - pup_total) * pomo;"
   ]
  },
  {
   "cell_type": "code",
   "execution_count": 35,
   "metadata": {},
   "outputs": [],
   "source": [
    "def plot_results(male_pups, female_pups, f_mature, m_mature, timeseries, timeseries2, title):\n",
    "    \"\"\"Plot the estimates and the model.\n",
    "    \n",
    "    total: TimeSeries of population estimates\n",
    "    timeseries: TimeSeries of simulation results\n",
    "    title: string\n",
    "    \"\"\"\n",
    "#     plot(female_pups, ':', label='f pups')\n",
    "#     plot(male_pups, ':', label='m pups')\n",
    "#     plot(f_mature, ':', label='f mature')\n",
    "#     plot(m_mature, ':', label='m mature')\n",
    "    \n",
    "    plot(female_pups+male_pups, ':', label='pups')\n",
    "   \n",
    "    plot(f_mature+m_mature, ':', label='mature')\n",
    "    \n",
    "    \n",
    "#     if len(timeseries):\n",
    "#         plot(timeseries, color='gray', label='model_mature')\n",
    "#     if len(timeseries2):\n",
    "#         plot(timeseries, color='gray', label='model_pups')\n",
    "    \n",
    "    plot(timeseries, \"--\", color='black', label='model_mature')\n",
    "    plot(timeseries2, color='gray', label='model_pups')\n",
    "    \n",
    "    decorate(xlabel='Year', \n",
    "             ylabel='Otter Population',\n",
    "             title=title)"
   ]
  },
  {
   "cell_type": "code",
   "execution_count": 36,
   "metadata": {
    "scrolled": true
   },
   "outputs": [
    {
     "data": {
      "image/png": "[encoded data removed]",
      "text/plain": [
       "<Figure size 432x288 with 1 Axes>"
      ]
     },
     "metadata": {
      "needs_background": "light"
     },
     "output_type": "display_data"
    }
   ],
   "source": [
    "empty = TimeSeries()\n",
    "empty2 = TimeSeries()\n",
    "plot_results(male_pups, female_pups, f_mature, m_mature, empty, empty2, 'Otter Population Estimates')"
   ]
  },
  {
   "cell_type": "markdown",
   "metadata": {},
   "source": [
    "### At what point of less female otters will birth rates be low enough that otter populations die out in the next 20 years in california?"
   ]
  },
  {
   "cell_type": "markdown",
   "metadata": {},
   "source": [
    "Although otter populations are on the rise now, what effect would a sudden disease have (in this case affecting pups). Relevant\n",
    "to see how stable otter populations are and to prevent otters from dying out in california"
   ]
  },
  {
   "cell_type": "markdown",
   "metadata": {},
   "source": [
    "Old question: How would total otter population increase and decrease if otter pup populations were less consistent year to year?"
   ]
  },
  {
   "cell_type": "markdown",
   "metadata": {},
   "source": [
    "[To remove later:\n",
    "\n",
    "Parameters: birth and death rates of otters in california\n",
    "\n",
    "State (from online data table): populations of otter pups and total otters\n",
    "\n",
    "Metrics: pup and total otter population]"
   ]
  },
  {
   "cell_type": "markdown",
   "metadata": {},
   "source": [
    "[Description here of question and what's wanted]"
   ]
  },
  {
   "cell_type": "markdown",
   "metadata": {},
   "source": [
    "### Model"
   ]
  },
  {
   "cell_type": "code",
   "execution_count": 37,
   "metadata": {},
   "outputs": [
    {
     "data": {
      "text/html": [
       "<div>\n",
       "<style scoped>\n",
       "    .dataframe tbody tr th:only-of-type {\n",
       "        vertical-align: middle;\n",
       "    }\n",
       "\n",
       "    .dataframe tbody tr th {\n",
       "        vertical-align: top;\n",
       "    }\n",
       "\n",
       "    .dataframe thead th {\n",
       "        text-align: right;\n",
       "    }\n",
       "</style>\n",
       "<table border=\"1\" class=\"dataframe\">\n",
       "  <thead>\n",
       "    <tr style=\"text-align: right;\">\n",
       "      <th></th>\n",
       "      <th>values</th>\n",
       "    </tr>\n",
       "  </thead>\n",
       "  <tbody>\n",
       "    <tr>\n",
       "      <th>f_pups</th>\n",
       "      <td>85.6</td>\n",
       "    </tr>\n",
       "    <tr>\n",
       "      <th>m_pups</th>\n",
       "      <td>128.4</td>\n",
       "    </tr>\n",
       "    <tr>\n",
       "      <th>f_mature</th>\n",
       "      <td>586.4</td>\n",
       "    </tr>\n",
       "    <tr>\n",
       "      <th>m_mature</th>\n",
       "      <td>879.6</td>\n",
       "    </tr>\n",
       "  </tbody>\n",
       "</table>\n",
       "</div>"
      ],
      "text/plain": [
       "f_pups       85.6\n",
       "m_pups      128.4\n",
       "f_mature    586.4\n",
       "m_mature    879.6\n",
       "dtype: float64"
      ]
     },
     "execution_count": 37,
     "metadata": {},
     "output_type": "execute_result"
    }
   ],
   "source": [
    "init_f_pups = get_first_value(female_pups)\n",
    "init_m_pups = get_first_value(male_pups)\n",
    "init_f_mature = get_first_value(f_mature)\n",
    "init_m_mature = get_first_value(m_mature)\n",
    "\n",
    "\n",
    "\n",
    "init_state = State(f_pups=init_f_pups, m_pups=init_m_pups, f_mature=init_f_mature, m_mature=init_m_mature)"
   ]
  },
  {
   "cell_type": "markdown",
   "metadata": {},
   "source": [
    "Birth rate per female is < 1 per year\n",
    "\n",
    "\n",
    "\n",
    "\n",
    "\n",
    "\n",
    "             https://seaworld.org/animal-info/animal-infobooks/otters/birth-and-care-of-young                \n",
    "                \n",
    "Sea otter gestation range from four to nine months, with an average of six months.\n",
    "Sea otters give birth throughout the year, with peaks in late May and June for Alaska otters, and March and September for California otters.\n",
    "Sea otters are capable of giving birth every year, but females usually experience much longer birth intervals.\n",
    "             https://www.biologicaldiversity.org/species/mammals/sea_otter/natural_history.html\n",
    "                \n",
    "                \n",
    "Female otters reach sexual maturity at three years of age, and males follow at five to six years\n",
    "Male sea otters live between 10 and 15 years, while females live slightly longer, from 15 to 20 years"
   ]
  },
  {
   "cell_type": "code",
   "execution_count": 80,
   "metadata": {},
   "outputs": [
    {
     "data": {
      "text/html": [
       "<div>\n",
       "<style scoped>\n",
       "    .dataframe tbody tr th:only-of-type {\n",
       "        vertical-align: middle;\n",
       "    }\n",
       "\n",
       "    .dataframe tbody tr th {\n",
       "        vertical-align: top;\n",
       "    }\n",
       "\n",
       "    .dataframe thead th {\n",
       "        text-align: right;\n",
       "    }\n",
       "</style>\n",
       "<table border=\"1\" class=\"dataframe\">\n",
       "  <thead>\n",
       "    <tr style=\"text-align: right;\">\n",
       "      <th></th>\n",
       "      <th>values</th>\n",
       "    </tr>\n",
       "  </thead>\n",
       "  <tbody>\n",
       "    <tr>\n",
       "      <th>f_birth_rate</th>\n",
       "      <td>0.035</td>\n",
       "    </tr>\n",
       "    <tr>\n",
       "      <th>m_birth_rate</th>\n",
       "      <td>0.035</td>\n",
       "    </tr>\n",
       "    <tr>\n",
       "      <th>maturation_rate</th>\n",
       "      <td>0.16</td>\n",
       "    </tr>\n",
       "    <tr>\n",
       "      <th>f_death_rate</th>\n",
       "      <td>0.0008</td>\n",
       "    </tr>\n",
       "    <tr>\n",
       "      <th>m_death_rate</th>\n",
       "      <td>0.0008</td>\n",
       "    </tr>\n",
       "    <tr>\n",
       "      <th>t_0</th>\n",
       "      <td>1990</td>\n",
       "    </tr>\n",
       "    <tr>\n",
       "      <th>t_end</th>\n",
       "      <td>2015</td>\n",
       "    </tr>\n",
       "    <tr>\n",
       "      <th>state</th>\n",
       "      <td>f_pups       85.6\n",
       "m_pups      128.4\n",
       "f_mature  ...</td>\n",
       "    </tr>\n",
       "  </tbody>\n",
       "</table>\n",
       "</div>"
      ],
      "text/plain": [
       "f_birth_rate                                                   0.035\n",
       "m_birth_rate                                                   0.035\n",
       "maturation_rate                                                 0.16\n",
       "f_death_rate                                                  0.0008\n",
       "m_death_rate                                                  0.0008\n",
       "t_0                                                             1990\n",
       "t_end                                                           2015\n",
       "state              f_pups       85.6\n",
       "m_pups      128.4\n",
       "f_mature  ...\n",
       "dtype: object"
      ]
     },
     "execution_count": 80,
     "metadata": {},
     "output_type": "execute_result"
    }
   ],
   "source": [
    "\n",
    "f_birth_rate = .035\n",
    "m_birth_rate = f_birth_rate \n",
    "\n",
    "maturation_rate = .16\n",
    "f_death_rate = .0008 # female vs male death rate subject to change, possibly sweep\n",
    "m_death_rate = .0008\n",
    "t_0 = 1990\n",
    "t_end = 2015\n",
    "                \n",
    "system = System(f_birth_rate = f_birth_rate, #Lets figure out how birth rate relates to F pop\n",
    "                m_birth_rate = m_birth_rate, #Lets figure out how birth rate relates to F pop\n",
    "                maturation_rate = maturation_rate,\n",
    "                f_death_rate = f_death_rate, # female vs male death rate subject to change, possibly sweep\n",
    "                m_death_rate = m_death_rate, \n",
    "                t_0 = t_0,\n",
    "                t_end = t_end,\n",
    "                state = init_state)\n",
    "\n",
    "# system = System(f_birth_rate = .035, #Lets figure out how birth rate relates to F pop\n",
    "#                 m_birth_rate = .035, #Lets figure out how birth rate relates to F pop\n",
    "#                 maturation_rate = .16,\n",
    "#                 f_death_rate = .0008, # female vs male death rate subject to change, possibly sweep\n",
    "#                 m_death_rate = .0008,\n",
    "#                 t_0 = 1990,\n",
    "#                 t_end = 2015,\n",
    "#                 state = init_state)"
   ]
  },
  {
   "cell_type": "code",
   "execution_count": 81,
   "metadata": {},
   "outputs": [],
   "source": [
    "# def update_func1(state, t, system):\n",
    "    \n",
    "    \n",
    "#     f_births = system.f_birth_rate * state.f_mature\n",
    "    \n",
    "#     m_births = system.m_birth_rate * state.f_mature\n",
    "    \n",
    "#     f_maturlings = system.maturation_rate * state.f_pups\n",
    "    \n",
    "#     m_maturlings = system.maturation_rate * state.m_pups\n",
    "        \n",
    "#     f_deaths = system.f_death_rate * state.f_mature\n",
    "    \n",
    "#     m_deaths = system.m_death_rate * state.m_mature\n",
    "    \n",
    "#     f_otters = state.f_mature - f_deaths + f_maturlings\n",
    "    \n",
    "#     m_otters = state.m_mature - m_deaths + m_maturlings\n",
    "    \n",
    "#     f_pups = state.f_pups + f_births - f_maturlings - system.m_death_rate\n",
    "    \n",
    "#     m_pups = state.m_pups + m_births - m_maturlings - system.m_death_rate\n",
    "    \n",
    "    \n",
    "#     return State(f_pups=f_pups, m_pups=m_pups, f_mature=f_otters, m_mature=m_otters)\n",
    "\n",
    "def update_func1(state, t, system):\n",
    "    \n",
    "    \n",
    "    f_births = system.f_birth_rate * state.f_mature\n",
    "    \n",
    "    m_births = system.m_birth_rate * state.f_mature\n",
    "    \n",
    "    f_maturlings = system.maturation_rate * state.f_pups\n",
    "    \n",
    "    m_maturlings = system.maturation_rate * state.m_pups\n",
    "        \n",
    "    f_deaths = death_rate * state.f_mature\n",
    "    \n",
    "    m_deaths = system.m_death_rate * state.m_mature\n",
    "    \n",
    "    f_otters = state.f_mature - f_deaths + f_maturlings\n",
    "    \n",
    "    m_otters = state.m_mature - m_deaths + m_maturlings\n",
    "    \n",
    "    f_pups = state.f_pups + f_births - f_maturlings - system.m_death_rate\n",
    "    \n",
    "    m_pups = state.m_pups + m_births - m_maturlings - system.m_death_rate\n",
    "    \n",
    "    \n",
    "    return State(f_pups=f_pups, m_pups=m_pups, f_mature=f_otters, m_mature=m_otters)"
   ]
  },
  {
   "cell_type": "markdown",
   "metadata": {},
   "source": [
    "### Results"
   ]
  },
  {
   "cell_type": "markdown",
   "metadata": {},
   "source": [
    "### Interpretation"
   ]
  },
  {
   "cell_type": "markdown",
   "metadata": {},
   "source": [
    "### For Later:"
   ]
  },
  {
   "cell_type": "code",
   "execution_count": 82,
   "metadata": {},
   "outputs": [
    {
     "data": {
      "text/html": [
       "<div>\n",
       "<style scoped>\n",
       "    .dataframe tbody tr th:only-of-type {\n",
       "        vertical-align: middle;\n",
       "    }\n",
       "\n",
       "    .dataframe tbody tr th {\n",
       "        vertical-align: top;\n",
       "    }\n",
       "\n",
       "    .dataframe thead th {\n",
       "        text-align: right;\n",
       "    }\n",
       "</style>\n",
       "<table border=\"1\" class=\"dataframe\">\n",
       "  <thead>\n",
       "    <tr style=\"text-align: right;\">\n",
       "      <th></th>\n",
       "      <th>values</th>\n",
       "    </tr>\n",
       "  </thead>\n",
       "  <tbody>\n",
       "    <tr>\n",
       "      <th>f_pups</th>\n",
       "      <td>92.42720</td>\n",
       "    </tr>\n",
       "    <tr>\n",
       "      <th>m_pups</th>\n",
       "      <td>128.37920</td>\n",
       "    </tr>\n",
       "    <tr>\n",
       "      <th>f_mature</th>\n",
       "      <td>599.62688</td>\n",
       "    </tr>\n",
       "    <tr>\n",
       "      <th>m_mature</th>\n",
       "      <td>899.44032</td>\n",
       "    </tr>\n",
       "  </tbody>\n",
       "</table>\n",
       "</div>"
      ],
      "text/plain": [
       "f_pups       92.42720\n",
       "m_pups      128.37920\n",
       "f_mature    599.62688\n",
       "m_mature    899.44032\n",
       "dtype: float64"
      ]
     },
     "execution_count": 82,
     "metadata": {},
     "output_type": "execute_result"
    }
   ],
   "source": [
    "state = update_func1(init_state, system.t_0, system)"
   ]
  },
  {
   "cell_type": "code",
   "execution_count": 83,
   "metadata": {},
   "outputs": [],
   "source": [
    "# def run_simulation(system, update_func):\n",
    "#     \"\"\"Simulate the system using any update function.\n",
    "    \n",
    "#     init: initial State object\n",
    "#     system: System object\n",
    "#     update_func: function that computes the population next year\n",
    "    \n",
    "#     returns: TimeSeries\n",
    "#     \"\"\"\n",
    "#     results_mature = TimeSeries()\n",
    "#     results_pups = TimeSeries()\n",
    "    \n",
    "#     state = system.state\n",
    "#     results_mature[system.t_0] = state.f_mature + state.m_mature\n",
    "#     results_pups[system.t_0] = state.f_pups + state.m_pups\n",
    "    \n",
    "#     for t in linrange(system.t_0, system.t_end):\n",
    "#         state = update_func(state, t, system)\n",
    "#         results_mature[t+1] = state.f_mature + state.m_mature\n",
    "#         results_pups[t+1] = state.f_pups + state.m_pups\n",
    "#     return results_mature, results_pups\n",
    "\n",
    "\n",
    "def run_simulation(system, death_rate, update_func):\n",
    "    \"\"\"Simulate the system using any update function.\n",
    "    \n",
    "    init: initial State object\n",
    "    system: System object\n",
    "    update_func: function that computes the population next year\n",
    "    \n",
    "    returns: TimeSeries\n",
    "    \"\"\"\n",
    "    results_mature = TimeSeries()\n",
    "    results_pups = TimeSeries()\n",
    "    \n",
    "    state = system.state\n",
    "    results_mature[system.t_0] = state.f_mature + state.m_mature\n",
    "    results_pups[system.t_0] = state.f_pups + state.m_pups\n",
    "    \n",
    "    for t in linrange(system.t_0, system.t_end):\n",
    "        state = update_func(state, t, system)\n",
    "        results_mature[t+1] = state.f_mature + state.m_mature\n",
    "        results_pups[t+1] = state.f_pups + state.m_pups\n",
    "    return results_mature, results_pups"
   ]
  },
  {
   "cell_type": "code",
   "execution_count": 84,
   "metadata": {},
   "outputs": [],
   "source": [
    "results_mature = run_simulation(system, update_func1)[0];\n",
    "results_pups = run_simulation(system, update_func1)[1];\n",
    "\n",
    "# print(results_pups)\n",
    "# print(results_mature)"
   ]
  },
  {
   "cell_type": "code",
   "execution_count": 85,
   "metadata": {},
   "outputs": [
    {
     "data": {
      "image/png": "[encoded data removed]",
      "text/plain": [
       "<Figure size 432x288 with 1 Axes>"
      ]
     },
     "metadata": {
      "needs_background": "light"
     },
     "output_type": "display_data"
    }
   ],
   "source": [
    "plot_results(male_pups, female_pups, f_mature, m_mature, \n",
    "             results_mature, \n",
    "             results_pups, 'World population estimates')"
   ]
  },
  {
   "cell_type": "code",
   "execution_count": null,
   "metadata": {},
   "outputs": [],
   "source": [
    "death_rate_array = linspace(0, 1, 11)\n",
    "\n",
    "sweep_pups = SweepSeries()\n",
    "sweep_mature = SweepSeries()\n",
    "\n",
    "for death_rate in death_rate_array:\n",
    "    state = run_simulation(death_rate, p2, num_steps)\n",
    "    sweep[p1] = state.olin_empty"
   ]
  },
  {
   "cell_type": "markdown",
   "metadata": {},
   "source": [
    "### Copied Code\n",
    "\n"
   ]
  },
  {
   "cell_type": "markdown",
   "metadata": {},
   "source": [
    "#### How to take in data tables for birth and death rates and trends, then plot that data\n",
    "\n"
   ]
  },
  {
   "cell_type": "code",
   "execution_count": 48,
   "metadata": {},
   "outputs": [],
   "source": [
    "filename = 'data/World_population_estimates.html'\n",
    "#replace with found data table\n",
    "tables = read_html(filename, header=0, index_col=0, decimal='M')\n",
    "table2 = tables[2]\n",
    "table2.columns = ['census', 'prb', 'un', 'maddison', \n",
    "                  'hyde', 'tanton', 'biraben', 'mj', \n",
    "                  'thomlinson', 'durand', 'clark']"
   ]
  },
  {
   "cell_type": "code",
   "execution_count": null,
   "metadata": {},
   "outputs": [],
   "source": [
    "def plot_results(census, un, timeseries, title):\n",
    "    \"\"\"Plot the estimates and the model.\n",
    "    \n",
    "    census: TimeSeries of population estimates\n",
    "    un: TimeSeries of population estimates\n",
    "    timeseries: TimeSeries of simulation results\n",
    "    title: string\n",
    "    \"\"\"\n",
    "    plot(census, ':', label='US Census')\n",
    "    plot(un, '--', label='UN DESA')\n",
    "    if len(timeseries):\n",
    "        plot(timeseries, color='gray', label='model')\n",
    "    \n",
    "    decorate(xlabel='Year', \n",
    "             ylabel='World population (billion)',\n",
    "             title=title)"
   ]
  },
  {
   "cell_type": "code",
   "execution_count": null,
   "metadata": {},
   "outputs": [],
   "source": [
    "un = table2.un / 1e9\n",
    "census = table2.census / 1e9\n",
    "empty = TimeSeries()\n",
    "plot_results(census, un, empty, 'World population estimates')"
   ]
  },
  {
   "cell_type": "code",
   "execution_count": null,
   "metadata": {},
   "outputs": [],
   "source": []
  },
  {
   "cell_type": "markdown",
   "metadata": {},
   "source": [
    "#### Then it goes into making the model:"
   ]
  },
  {
   "cell_type": "markdown",
   "metadata": {},
   "source": [
    "### System objects"
   ]
  },
  {
   "cell_type": "markdown",
   "metadata": {},
   "source": [
    "We can rewrite the code from the previous chapter using system objects."
   ]
  },
  {
   "cell_type": "code",
   "execution_count": null,
   "metadata": {},
   "outputs": [],
   "source": [
    "t_0 = get_first_label(census)\n",
    "t_end = get_last_label(census)\n",
    "elapsed_time = t_end - t_0\n",
    "\n",
    "p_0 = get_first_value(census)\n",
    "p_end = get_last_value(census)\n",
    "total_growth = p_end - p_0\n",
    "\n",
    "annual_growth = total_growth / elapsed_time\n",
    "\n",
    "system = System(t_0=t_0, \n",
    "                t_end=t_end,\n",
    "                p_0=p_0,\n",
    "                annual_growth=annual_growth)"
   ]
  },
  {
   "cell_type": "markdown",
   "metadata": {},
   "source": [
    "And we can encapsulate the code that runs the model in a function."
   ]
  },
  {
   "cell_type": "code",
   "execution_count": null,
   "metadata": {},
   "outputs": [],
   "source": [
    "def run_simulation1(system):\n",
    "    \"\"\"Runs the constant growth model.\n",
    "    \n",
    "    system: System object\n",
    "    \n",
    "    returns: TimeSeries\n",
    "    \"\"\"\n",
    "    results = TimeSeries()\n",
    "    results[system.t_0] = system.p_0\n",
    "    \n",
    "    for t in linrange(system.t_0, system.t_end):\n",
    "        results[t+1] = results[t] + system.annual_growth\n",
    "    \n",
    "    return results"
   ]
  },
  {
   "cell_type": "markdown",
   "metadata": {},
   "source": [
    "We can also encapsulate the code that plots the results."
   ]
  },
  {
   "cell_type": "code",
   "execution_count": null,
   "metadata": {},
   "outputs": [],
   "source": [
    "def plot_results(census, un, timeseries, title):\n",
    "    \"\"\"Plot the estimates and the model.\n",
    "    \n",
    "    census: TimeSeries of population estimates\n",
    "    un: TimeSeries of population estimates\n",
    "    timeseries: TimeSeries of simulation results\n",
    "    title: string\n",
    "    \"\"\"\n",
    "    plot(census, ':', label='US Census')\n",
    "    plot(un, '--', label='UN DESA')\n",
    "    plot(timeseries, color='gray', label='model')\n",
    "    \n",
    "    decorate(xlabel='Year', \n",
    "             ylabel='World population (billion)',\n",
    "             title=title)"
   ]
  },
  {
   "cell_type": "code",
   "execution_count": null,
   "metadata": {},
   "outputs": [],
   "source": [
    "results = run_simulation1(system)\n",
    "plot_results(census, un, results, 'Constant growth model')"
   ]
  },
  {
   "cell_type": "markdown",
   "metadata": {},
   "source": [
    "## Proportional model:"
   ]
  },
  {
   "cell_type": "code",
   "execution_count": null,
   "metadata": {},
   "outputs": [],
   "source": [
    "def update_func1(pop, t, system):\n",
    "    \"\"\"Compute the population next year.\n",
    "    \n",
    "    pop: current population\n",
    "    t: current year\n",
    "    system: system object containing parameters of the model\n",
    "    \n",
    "    returns: population next year\n",
    "    \"\"\"\n",
    "    #print(t)\n",
    "    #print(pop)\n",
    "    births = system.birth_rate * pop\n",
    "    deaths = system.death_rate * pop\n",
    "    return pop + births - deaths"
   ]
  },
  {
   "cell_type": "code",
   "execution_count": null,
   "metadata": {},
   "outputs": [],
   "source": [
    "def run_simulation(system, update_func):\n",
    "    \"\"\"Simulate the system using any update function.\n",
    "    \n",
    "    system: System object\n",
    "    update_func: function that computes the population next year\n",
    "    \n",
    "    returns: TimeSeries\n",
    "    \"\"\"\n",
    "    results = TimeSeries()\n",
    "    results[system.t_0] = system.p_0\n",
    "    \n",
    "    for t in linrange(system.t_0, system.t_end):\n",
    "        results[t+1] = update_func(results[t], t, system)\n",
    "        \n",
    "    return results"
   ]
  },
  {
   "cell_type": "code",
   "execution_count": null,
   "metadata": {},
   "outputs": [],
   "source": [
    "t_0 = get_first_label(census)\n",
    "t_end = get_last_label(census)\n",
    "p_0 = census[t_0]\n",
    "\n",
    "system = System(t_0=t_0, \n",
    "                t_end=t_end,\n",
    "                p_0=p_0,\n",
    "                birth_rate=0.027,\n",
    "                death_rate=0.01)"
   ]
  },
  {
   "cell_type": "code",
   "execution_count": null,
   "metadata": {
    "scrolled": true
   },
   "outputs": [],
   "source": [
    "results = run_simulation(system, update_func1)\n",
    "plot_results(census, un, results, 'Proportional model, factored')"
   ]
  },
  {
   "cell_type": "markdown",
   "metadata": {},
   "source": [
    "### Combines Birth and Death Rates"
   ]
  },
  {
   "cell_type": "code",
   "execution_count": null,
   "metadata": {},
   "outputs": [],
   "source": [
    "def run_simulation2(system):\n",
    "    \"\"\"Run a model with proportional birth and death.\n",
    "    \n",
    "    system: System object\n",
    "    \n",
    "    returns: TimeSeries\n",
    "    \"\"\"\n",
    "    results = TimeSeries()\n",
    "    results[system.t_0] = system.p_0\n",
    "    \n",
    "    for t in linrange(system.t_0, system.t_end):\n",
    "        births = system.birth_rate * results[t]\n",
    "        deaths = system.death_rate * results[t]\n",
    "        results[t+1] = results[t] + births - deaths\n",
    "        \n",
    "    return results\n",
    "\n",
    "system.death_rate = 0.01\n",
    "system.birth_rate = 0.027\n",
    "\n",
    "results = run_simulation2(system)\n",
    "plot_results(census, un, results, 'Proportional model')\n",
    "savefig('figs/chap03-fig03.pdf')"
   ]
  },
  {
   "cell_type": "code",
   "execution_count": null,
   "metadata": {},
   "outputs": [],
   "source": [
    "def update_func2(pop, t, system):\n",
    "    \"\"\"Compute the population next year.\n",
    "    \n",
    "    pop: current population\n",
    "    t: current year\n",
    "    system: system object containing parameters of the model\n",
    "    \n",
    "    returns: population next year\n",
    "    \"\"\"\n",
    "    net_growth = system.alpha  * pop\n",
    "    return pop + net_growth"
   ]
  },
  {
   "cell_type": "code",
   "execution_count": null,
   "metadata": {
    "scrolled": true
   },
   "outputs": [],
   "source": [
    "system.alpha = system.birth_rate - system.death_rate\n",
    "\n",
    "results = run_simulation(system, update_func2)\n",
    "plot_results(census, un, results, 'Proportional model, combined birth and death')"
   ]
  },
  {
   "cell_type": "markdown",
   "metadata": {},
   "source": [
    "### Multiple rates:"
   ]
  },
  {
   "cell_type": "code",
   "execution_count": null,
   "metadata": {
    "scrolled": false
   },
   "outputs": [],
   "source": [
    "def update_func3(pop, t, system):\n",
    "    \"\"\"Compute the population next year.\n",
    "    \n",
    "    pop: current population\n",
    "    t: current year\n",
    "    system: system object containing parameters of the model\n",
    "    \n",
    "    returns: population next year\n",
    "    \"\"\"\n",
    "    if t < 1980:\n",
    "        net_growth = system.alpha1  * pop\n",
    "    \n",
    "    if t >= 1980:\n",
    "        net_growth = system.alpha2 * pop\n",
    "        \n",
    "    return pop + net_growth"
   ]
  },
  {
   "cell_type": "code",
   "execution_count": null,
   "metadata": {},
   "outputs": [],
   "source": [
    "system.death_rate1 = 0.01\n",
    "system.birth_rate1 = 0.027\n",
    "\n",
    "system.death_rate2 = 0.01\n",
    "system.birth_rate2 = 0.028\n",
    "\n",
    "system.alpha1 = system.birth_rate1 - system.death_rate1\n",
    "system.alpha2 = system.birth_rate2 - system.death_rate2\n",
    "\n",
    "results = run_simulation(system, update_func3)\n",
    "plot_results(census, un, results, 'Proportional model, combined birth and death')"
   ]
  }
 ],
 "metadata": {
  "kernelspec": {
   "display_name": "Python 3",
   "language": "python",
   "name": "python3"
  },
  "language_info": {
   "codemirror_mode": {
    "name": "ipython",
    "version": 3
   },
   "file_extension": ".py",
   "mimetype": "text/x-python",
   "name": "python",
   "nbconvert_exporter": "python",
   "pygments_lexer": "ipython3",
   "version": "3.6.6"
  }
 },
 "nbformat": 4,
 "nbformat_minor": 2
}
